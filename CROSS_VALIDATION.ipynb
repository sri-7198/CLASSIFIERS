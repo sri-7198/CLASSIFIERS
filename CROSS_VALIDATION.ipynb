{
  "nbformat": 4,
  "nbformat_minor": 0,
  "metadata": {
    "colab": {
      "provenance": [],
      "authorship_tag": "ABX9TyNLeUP4CPjYfuE8aumSHYc5",
      "include_colab_link": true
    },
    "kernelspec": {
      "name": "python3",
      "display_name": "Python 3"
    },
    "language_info": {
      "name": "python"
    }
  },
  "cells": [
    {
      "cell_type": "markdown",
      "metadata": {
        "id": "view-in-github",
        "colab_type": "text"
      },
      "source": [
        "<a href=\"https://colab.research.google.com/github/sri-7198/CLASSIFIERS/blob/main/CROSS_VALIDATION.ipynb\" target=\"_parent\"><img src=\"https://colab.research.google.com/assets/colab-badge.svg\" alt=\"Open In Colab\"/></a>"
      ]
    },
    {
      "cell_type": "code",
      "execution_count": 2,
      "metadata": {
        "colab": {
          "base_uri": "https://localhost:8080/"
        },
        "id": "wNyln2AlKq80",
        "outputId": "a7727def-d19f-4304-9fec-a48c01252a1b"
      },
      "outputs": [
        {
          "output_type": "stream",
          "name": "stdout",
          "text": [
            "Random Forest Cross-Validation Accuracy: 0.9786 (± 0.0286)\n",
            "SVM Cross-Validation Accuracy: 0.6485 (± 0.0710)\n",
            "KNN Cross-Validation Accuracy: 0.6618 (± 0.0363)\n",
            "Naive Bayes Cross-Validation Accuracy: 0.9645 (± 0.0391)\n",
            "\n",
            "Best Model (Random Forest) Test Accuracy: 1.0000\n"
          ]
        }
      ],
      "source": [
        "import pandas as pd\n",
        "from sklearn.model_selection import train_test_split, cross_val_score\n",
        "from sklearn.ensemble import RandomForestClassifier\n",
        "from sklearn.svm import SVC\n",
        "from sklearn.neighbors import KNeighborsClassifier\n",
        "from sklearn.naive_bayes import GaussianNB\n",
        "from sklearn.metrics import accuracy_score\n",
        "\n",
        "# Load the dataset\n",
        "wine_data = pd.read_csv(\"wine.data\", header=None)\n",
        "\n",
        "# Preprocess the dataset if necessary\n",
        "\n",
        "# Split the dataset into features and target variable\n",
        "X = wine_data.iloc[:, 1:]  # Assuming features start from the second column\n",
        "y = wine_data.iloc[:, 0]   # Assuming target variable is in the first column\n",
        "\n",
        "# Split the data into training and testing sets\n",
        "X_train, X_test, y_train, y_test = train_test_split(X, y, test_size=0.2, random_state=42)\n",
        "\n",
        "# Initialize models for comparison\n",
        "models = {\n",
        "    \"Random Forest\": RandomForestClassifier(random_state=42),\n",
        "    \"SVM\": SVC(random_state=42),\n",
        "    \"KNN\": KNeighborsClassifier(),\n",
        "    \"Naive Bayes\": GaussianNB()\n",
        "}\n",
        "\n",
        "# Perform cross-validation and evaluate models\n",
        "for name, model in models.items():\n",
        "    scores = cross_val_score(model, X_train, y_train, cv=5)\n",
        "    print(f\"{name} Cross-Validation Accuracy: {scores.mean():.4f} (± {scores.std():.4f})\")\n",
        "\n",
        "# Select the best model based on cross-validation accuracy\n",
        "best_model_name = max(models, key=lambda x: cross_val_score(models[x], X_train, y_train, cv=5).mean())\n",
        "best_model = models[best_model_name]\n",
        "\n",
        "# Fit the best model on the entire training data\n",
        "best_model.fit(X_train, y_train)\n",
        "\n",
        "# Evaluate the best model on the testing data\n",
        "y_pred = best_model.predict(X_test)\n",
        "accuracy = accuracy_score(y_test, y_pred)\n",
        "print(f\"\\nBest Model ({best_model_name}) Test Accuracy: {accuracy:.4f}\")\n"
      ]
    }
  ]
}