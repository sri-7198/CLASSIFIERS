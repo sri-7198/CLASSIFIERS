{
  "nbformat": 4,
  "nbformat_minor": 0,
  "metadata": {
    "colab": {
      "provenance": [],
      "authorship_tag": "ABX9TyME479s5Btm7hoWRNlgQZ2R",
      "include_colab_link": true
    },
    "kernelspec": {
      "name": "python3",
      "display_name": "Python 3"
    },
    "language_info": {
      "name": "python"
    }
  },
  "cells": [
    {
      "cell_type": "markdown",
      "metadata": {
        "id": "view-in-github",
        "colab_type": "text"
      },
      "source": [
        "<a href=\"https://colab.research.google.com/github/sri-7198/CLASSIFIERS/blob/main/KNN_CLASSIFIER.ipynb\" target=\"_parent\"><img src=\"https://colab.research.google.com/assets/colab-badge.svg\" alt=\"Open In Colab\"/></a>"
      ]
    },
    {
      "cell_type": "code",
      "execution_count": 1,
      "metadata": {
        "colab": {
          "base_uri": "https://localhost:8080/"
        },
        "id": "m8OJQEfWFQDS",
        "outputId": "fddde3bc-8133-461f-cd69-3b095f6c9695"
      },
      "outputs": [
        {
          "output_type": "stream",
          "name": "stdout",
          "text": [
            "Accuracy: 0.6511627906976745\n",
            "\n",
            "Classification Report:\n",
            "              precision    recall  f1-score   support\n",
            "\n",
            "           1       0.56      0.82      0.67        11\n",
            "           2       0.69      0.64      0.67        14\n",
            "           3       0.50      0.33      0.40         3\n",
            "           5       1.00      0.25      0.40         4\n",
            "           6       0.50      0.33      0.40         3\n",
            "           7       0.78      0.88      0.82         8\n",
            "\n",
            "    accuracy                           0.65        43\n",
            "   macro avg       0.67      0.54      0.56        43\n",
            "weighted avg       0.68      0.65      0.63        43\n",
            "\n"
          ]
        }
      ],
      "source": [
        "import pandas as pd\n",
        "from sklearn.model_selection import train_test_split\n",
        "from sklearn.neighbors import KNeighborsClassifier\n",
        "from sklearn.metrics import accuracy_score, classification_report\n",
        "\n",
        "# Load the dataset\n",
        "glass_data = pd.read_csv(\"glass.data\", header=None)\n",
        "\n",
        "# Preprocess the dataset if needed\n",
        "\n",
        "# Split the dataset into features and target variable\n",
        "X = glass_data.iloc[:, 1:-1]  # Assuming features start from the second column and exclude the last column\n",
        "y = glass_data.iloc[:, -1]    # Assuming target variable is in the last column\n",
        "\n",
        "# Split the data into training and testing sets\n",
        "X_train, X_test, y_train, y_test = train_test_split(X, y, test_size=0.2, random_state=42)\n",
        "\n",
        "# Initialize the KNN classifier\n",
        "clf = KNeighborsClassifier(n_neighbors=5)\n",
        "\n",
        "# Fit the model on the training data\n",
        "clf.fit(X_train, y_train)\n",
        "\n",
        "# Make predictions on the testing data\n",
        "y_pred = clf.predict(X_test)\n",
        "\n",
        "# Evaluate the model's performance\n",
        "accuracy = accuracy_score(y_test, y_pred)\n",
        "print(\"Accuracy:\", accuracy)\n",
        "print(\"\\nClassification Report:\")\n",
        "print(classification_report(y_test, y_pred))\n"
      ]
    }
  ]
}